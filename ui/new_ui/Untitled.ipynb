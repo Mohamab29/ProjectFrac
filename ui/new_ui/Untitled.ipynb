{
 "cells": [
  {
   "cell_type": "code",
   "execution_count": 1,
   "id": "capital-clothing",
   "metadata": {},
   "outputs": [],
   "source": [
    "text = \"Images: 0\""
   ]
  },
  {
   "cell_type": "code",
   "execution_count": 5,
   "id": "handy-palestinian",
   "metadata": {},
   "outputs": [],
   "source": [
    "txt = \"hello, my name is Peter, I am 26 years old\"\n",
    "\n",
    "x = txt.split(\", \")"
   ]
  },
  {
   "cell_type": "code",
   "execution_count": 8,
   "id": "middle-arthur",
   "metadata": {},
   "outputs": [],
   "source": [
    "text = \"Images: 0\""
   ]
  },
  {
   "cell_type": "code",
   "execution_count": 12,
   "id": "accurate-harrison",
   "metadata": {},
   "outputs": [
    {
     "data": {
      "text/plain": [
       "'0'"
      ]
     },
     "execution_count": 12,
     "metadata": {},
     "output_type": "execute_result"
    }
   ],
   "source": [
    "text.split(\": \")[1]"
   ]
  }
 ],
 "metadata": {
  "kernelspec": {
   "display_name": "Python 3",
   "language": "python",
   "name": "python3"
  },
  "language_info": {
   "codemirror_mode": {
    "name": "ipython",
    "version": 3
   },
   "file_extension": ".py",
   "mimetype": "text/x-python",
   "name": "python",
   "nbconvert_exporter": "python",
   "pygments_lexer": "ipython3",
   "version": "3.7.9"
  }
 },
 "nbformat": 4,
 "nbformat_minor": 5
}
